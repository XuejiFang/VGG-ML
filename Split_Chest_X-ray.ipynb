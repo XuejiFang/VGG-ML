{
 "cells": [
  {
   "cell_type": "code",
   "execution_count": 20,
   "id": "4b6ec795-2ab8-4b63-9adb-56d5ffc5bfbb",
   "metadata": {},
   "outputs": [],
   "source": [
    "import os\n",
    "import shutil"
   ]
  },
  {
   "cell_type": "code",
   "execution_count": 57,
   "id": "ed87fe73-68d3-4c2f-b048-2247e83ae79a",
   "metadata": {},
   "outputs": [],
   "source": [
    "path = './data/Data/val/'\n",
    "path = path + 'PNEUMONIA/'"
   ]
  },
  {
   "cell_type": "code",
   "execution_count": 58,
   "id": "257dc1f1-5c99-426d-bb22-a25b7c7c1fee",
   "metadata": {},
   "outputs": [],
   "source": [
    "save_path = os.path.abspath(os.path.join(os.getcwd(), './data/Chest_X-ray/val/'))   #os.getcwd()返回当前目录\n",
    "if not os.path.exists(save_path):    \n",
    "    os.mkdir(save_path)         #与Linux下相同语法"
   ]
  },
  {
   "cell_type": "code",
   "execution_count": 59,
   "id": "d47ff327-b9d1-49db-ab34-94dd2ea848a1",
   "metadata": {},
   "outputs": [],
   "source": [
    "for name in os.listdir(path):\n",
    "    split_name = str.split(name, '_')[1]\n",
    "    save_path = os.path.abspath(os.path.join(os.getcwd(), './data/Chest_X-ray/val/', split_name))   #os.getcwd()返回当前目录\n",
    "    if not os.path.exists(save_path):    \n",
    "        os.mkdir(save_path)         #与Linux下相同语法\n",
    "    if not os.path.exists(save_path+name):\n",
    "        try:\n",
    "            shutil.copy2(path+name, save_path)\n",
    "        except IsADirectoryError:\n",
    "            print('IsADirectoryError', path+name, save_path)"
   ]
  },
  {
   "cell_type": "code",
   "execution_count": 28,
   "id": "d87b21fc-acdc-4c4d-89bd-e9cdd0b69188",
   "metadata": {},
   "outputs": [
    {
     "data": {
      "text/plain": [
       "'./data/Chest_X-ray/train/normal'"
      ]
     },
     "execution_count": 28,
     "metadata": {},
     "output_type": "execute_result"
    }
   ],
   "source": [
    "shutil.copytree('./data/Data/train/NORMAL/', './data/Chest_X-ray/train/normal')"
   ]
  },
  {
   "cell_type": "code",
   "execution_count": 29,
   "id": "5c8363c4-7127-4913-9665-cc81fa37972a",
   "metadata": {},
   "outputs": [
    {
     "data": {
      "text/plain": [
       "'./data/Chest_X-ray/test/normal'"
      ]
     },
     "execution_count": 29,
     "metadata": {},
     "output_type": "execute_result"
    }
   ],
   "source": [
    "shutil.copytree('./data/Data/test/NORMAL/', './data/Chest_X-ray/test/normal')"
   ]
  },
  {
   "cell_type": "code",
   "execution_count": 30,
   "id": "8e9a293d-325a-4a85-ae34-5c9f2988712a",
   "metadata": {},
   "outputs": [
    {
     "data": {
      "text/plain": [
       "'./data/Chest_X-ray/val/normal'"
      ]
     },
     "execution_count": 30,
     "metadata": {},
     "output_type": "execute_result"
    }
   ],
   "source": [
    "shutil.copytree('./data/Data/val/NORMAL/', './data/Chest_X-ray/val/normal')"
   ]
  },
  {
   "cell_type": "code",
   "execution_count": 60,
   "id": "124b46a6-0b30-48fa-87b6-ee3dc3013d6c",
   "metadata": {},
   "outputs": [
    {
     "data": {
      "text/plain": [
       "8"
      ]
     },
     "execution_count": 60,
     "metadata": {},
     "output_type": "execute_result"
    }
   ],
   "source": [
    "files = os.listdir('./data/Data/val/PNEUMONIA')\n",
    "len(files)"
   ]
  },
  {
   "cell_type": "code",
   "execution_count": 61,
   "id": "8505d6ed-3b7b-434e-9869-7e088060c8d4",
   "metadata": {},
   "outputs": [
    {
     "data": {
      "text/plain": [
       "8"
      ]
     },
     "execution_count": 61,
     "metadata": {},
     "output_type": "execute_result"
    }
   ],
   "source": [
    "# a = os.listdir('./data/Chest_X-ray/val/virus/')\n",
    "b = os.listdir('./data/Chest_X-ray/val/bacteria/')\n",
    "# len(a) + \n",
    "len(b)"
   ]
  },
  {
   "cell_type": "code",
   "execution_count": null,
   "id": "c2cc1d7f-346c-4596-b001-e6c7f49c7ddc",
   "metadata": {},
   "outputs": [],
   "source": []
  }
 ],
 "metadata": {
  "kernelspec": {
   "display_name": "Python 3",
   "language": "python",
   "name": "python3"
  },
  "language_info": {
   "codemirror_mode": {
    "name": "ipython",
    "version": 3
   },
   "file_extension": ".py",
   "mimetype": "text/x-python",
   "name": "python",
   "nbconvert_exporter": "python",
   "pygments_lexer": "ipython3",
   "version": "3.7.6"
  }
 },
 "nbformat": 4,
 "nbformat_minor": 5
}
