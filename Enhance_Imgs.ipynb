{
 "cells": [
  {
   "cell_type": "code",
   "execution_count": 6,
   "id": "802735d0-b906-48d8-b6bc-c2ab8d3c3ed9",
   "metadata": {},
   "outputs": [],
   "source": [
    "import cv2\n",
    "import matplotlib.pyplot as plt\n",
    "import os\n",
    "from skimage.exposure import equalize_adapthist\n",
    "from skimage.transform import resize"
   ]
  },
  {
   "cell_type": "code",
   "execution_count": 14,
   "id": "1a51b2bb-b97d-4f07-b774-05e783f024b9",
   "metadata": {},
   "outputs": [],
   "source": [
    "path = './data/Chest_X-ray2-2/train/'"
   ]
  },
  {
   "cell_type": "code",
   "execution_count": 15,
   "id": "b83cc90d-ee62-44dc-87d9-3b1e7c206a6f",
   "metadata": {},
   "outputs": [],
   "source": [
    "save_path = './data/Chest_X-ray2-2_Enhanced/train/'\n",
    "if not os.path.exists(save_path):\n",
    "    os.mkdir(save_path)"
   ]
  },
  {
   "cell_type": "code",
   "execution_count": 16,
   "id": "dc879d3c-a825-4e50-9748-35d3ed1b6875",
   "metadata": {},
   "outputs": [
    {
     "name": "stdout",
     "output_type": "stream",
     "text": [
      "./data/Chest_X-ray2-2_Enhanced/train/virus\n",
      "./data/Chest_X-ray2-2_Enhanced/train/bacteria\n",
      "finished\n"
     ]
    }
   ],
   "source": [
    "for name in os.listdir(path):\n",
    "    save_path0 = save_path+name\n",
    "    print(save_path0)\n",
    "    if not os.path.exists(save_path0):\n",
    "        os.mkdir(save_path0)\n",
    "    for img_name in os.listdir(path+name):\n",
    "        img = cv2.imread(path+name+'/'+img_name)\n",
    "        \n",
    "        # 双线性差值缩放图片\n",
    "        img = resize(img, (224, 224), mode='reflect', anti_aliasing=True)\n",
    "        # cv2.imshow(img_name, img)\n",
    "        img = equalize_adapthist(img)\n",
    "    \n",
    "        plt.imsave(save_path0+'/'+img_name, img)\n",
    "print('finished')        "
   ]
  },
  {
   "cell_type": "code",
   "execution_count": 17,
   "id": "0d575c10-5c1f-430b-9ed2-ee094bb513fe",
   "metadata": {},
   "outputs": [
    {
     "name": "stdout",
     "output_type": "stream",
     "text": [
      "Chest_X-ray.ipynb    ReadMe.ipynb             fig.png   \u001b[0m\u001b[01;34mshare\u001b[0m/\n",
      "Enhance_Imgs.ipynb   Split_Chest_X-ray.ipynb  \u001b[01;34mmodels\u001b[0m/   \u001b[01;34mtools\u001b[0m/\n",
      "Hist_contrast.ipynb  \u001b[01;34mdata\u001b[0m/                    \u001b[01;34mresults\u001b[0m/  \u001b[01;34m一些探索\u001b[0m/\n"
     ]
    }
   ],
   "source": [
    "ls"
   ]
  },
  {
   "cell_type": "code",
   "execution_count": null,
   "id": "39debcb4-6e31-4747-a5ca-bfb500300289",
   "metadata": {},
   "outputs": [],
   "source": []
  }
 ],
 "metadata": {
  "kernelspec": {
   "display_name": "Python 3",
   "language": "python",
   "name": "python3"
  },
  "language_info": {
   "codemirror_mode": {
    "name": "ipython",
    "version": 3
   },
   "file_extension": ".py",
   "mimetype": "text/x-python",
   "name": "python",
   "nbconvert_exporter": "python",
   "pygments_lexer": "ipython3",
   "version": "3.7.6"
  },
  "toc-autonumbering": true
 },
 "nbformat": 4,
 "nbformat_minor": 5
}
