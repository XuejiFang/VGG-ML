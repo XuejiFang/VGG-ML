{
 "cells": [
  {
   "cell_type": "markdown",
   "id": "dc2325c1-c79a-4210-b3e6-376853e2f843",
   "metadata": {},
   "source": [
    "> @ChatGPT\n",
    "> \n",
    "> 在使用深度学习进行图像分类时，将图像按大类分类再按小类分类可能会比直接按所有小类分类更容易达到更高的分类精度。\n",
    "> \n",
    "> 这是因为，将图像按大类分类后，模型可以先在较大的类别范围内进行分类，然后再缩小范围，进行更精细的分类。这可以帮助模型在较小的类别范围内更好地学习特征，从而提高分类精度。\n",
    "> \n",
    "> 例如，如果要对动物图像进行分类，可以先将图像分为“哺乳动物”、“鸟类”、“爬行动物”等大类，然后再将每个大类的图像分为更小的类别（例如“狗”、“猫”、“老鹰”等）。这可能会比直接将所有图像分为“狗”、“猫”、“老鹰”等类别更容易达到更高的分类精度。\n",
    "> \n",
    "> 但是，这也可能会增加训练时间和模型的复杂度。因此，在实际应用中，应根据需要选择适当的方法。"
   ]
  },
  {
   "cell_type": "markdown",
   "id": "24284d74-a15c-4f58-af98-f73e7513c1eb",
   "metadata": {},
   "source": [
    "# 1. 数据与预处理"
   ]
  },
  {
   "cell_type": "code",
   "execution_count": 16,
   "id": "8afc2357-a9e2-4f0c-85eb-43193c30e357",
   "metadata": {},
   "outputs": [],
   "source": [
    "'''\n",
    "from models.AlexNet import alexnet\n",
    "from models.VggNet import vgg11\n",
    "from models.VggNet import vgg13\n",
    "from models.VggNet import vgg16\n",
    "from models.VggNet import vgg19\n",
    "from models.GoogleNet_v1 import googlenet\n",
    "'''\n",
    "from models.DenseNet import densenet121\n",
    "\n",
    "import matplotlib.pyplot as plt\n",
    "import json\n",
    "import os\n",
    "import sys\n",
    "import torch\n",
    "import torch.nn as nn\n",
    "from tqdm import tqdm\n",
    "import torchvision\n",
    "import torchvision.transforms as transforms"
   ]
  },
  {
   "cell_type": "code",
   "execution_count": 17,
   "id": "3e70b07c-71be-431d-bfde-e7092aa22951",
   "metadata": {},
   "outputs": [],
   "source": [
    "data_path = '/root/data/Chest_X-ray2-2_Enhanced/'\n",
    "# data_path = '/root/data/imagenet-mini/'\n",
    "assert os.path.exists(data_path), \"{} path does not exist.\".format(data_path)"
   ]
  },
  {
   "cell_type": "code",
   "execution_count": 18,
   "id": "7c6c5a3f-641e-4c88-a38b-fd766c5efbfa",
   "metadata": {},
   "outputs": [],
   "source": [
    "# 设置超参数\n",
    "num_epochs = 20\n",
    "batch_size = 32\n",
    "learning_rate = 0.001"
   ]
  },
  {
   "cell_type": "code",
   "execution_count": 19,
   "id": "c6ad94c7-6f42-43ca-aa6e-09a860ae47c9",
   "metadata": {},
   "outputs": [
    {
     "name": "stdout",
     "output_type": "stream",
     "text": [
      "cuda\n",
      "Using 8 dataloader workers every process\n"
     ]
    }
   ],
   "source": [
    "device = torch.device('cuda' if torch.cuda.is_available() else 'cpu')\n",
    "print(device)\n",
    "num_workers = min([os.cpu_count(), batch_size if batch_size > 1 else 0, 8])  # 用于加载数据集的进程数量\n",
    "print('Using {} dataloader workers every process'.format(num_workers))"
   ]
  },
  {
   "cell_type": "code",
   "execution_count": 20,
   "id": "34296efc-d04c-4648-8550-de83150da6a1",
   "metadata": {},
   "outputs": [],
   "source": [
    "data_transform = {\n",
    "    'train': transforms.Compose([\n",
    "                                # 已经预处理好了\n",
    "                                # transforms.Resize(224),\n",
    "                                # transforms.CenterCrop(224),\n",
    "                                transforms.ToTensor(),\n",
    "                                transforms.Normalize((0.5, 0.5, 0.5), (0.5, 0.5, 0.5))]),\n",
    "    'val': transforms.Compose([\n",
    "                                # 已经预处理好了\n",
    "                                # transforms.Resize(224),\n",
    "                                transforms.ToTensor(),\n",
    "                                transforms.Normalize((0.5, 0.5, 0.5), (0.5, 0.5, 0.5))]),\n",
    "    }"
   ]
  },
  {
   "cell_type": "code",
   "execution_count": 21,
   "id": "9c8985b2-8a8c-405e-a9c6-23bfa7993dd3",
   "metadata": {},
   "outputs": [],
   "source": [
    "# 加载训练集\n",
    "train_dataset = torchvision.datasets.ImageFolder(root = os.path.join(data_path, 'train'), transform=data_transform['train'])\n",
    "# 加载验证集\n",
    "val_dataset = torchvision.datasets.ImageFolder(root = os.path.join(data_path, 'val'), transform=data_transform['val'])\n",
    "\n",
    "train_num = len(train_dataset)\n",
    "val_num = len(val_dataset)"
   ]
  },
  {
   "cell_type": "code",
   "execution_count": 22,
   "id": "3f3e1e71-7a18-4aa4-8a94-167749aeb7a9",
   "metadata": {},
   "outputs": [
    {
     "name": "stdout",
     "output_type": "stream",
     "text": [
      "using 3875 images for training, 13 images for validation.\n"
     ]
    }
   ],
   "source": [
    "# 配置Data loader，一次训练载入一个batch_size的数据\n",
    "train_loader = torch.utils.data.DataLoader(\n",
    "    dataset = train_dataset, batch_size=batch_size, shuffle=True, num_workers=num_workers)\n",
    "val_loader = torch.utils.data.DataLoader(\n",
    "    dataset = val_dataset, batch_size=batch_size, shuffle=False, num_workers=num_workers)\n",
    "print(\"using {} images for training, {} images for validation.\".format(train_num, val_num))"
   ]
  },
  {
   "cell_type": "code",
   "execution_count": 23,
   "id": "7587291f-afcd-4388-a690-0f3f64e7a9cb",
   "metadata": {},
   "outputs": [
    {
     "name": "stdout",
     "output_type": "stream",
     "text": [
      "2 {\n",
      "    \"0\": \"bacteria\",\n",
      "    \"1\": \"virus\"\n",
      "}\n"
     ]
    }
   ],
   "source": [
    "# 使用class_to_idx给类别一个index，作为训练时的标签： {'daisy':0, 'dandelion':1, 'roses':2, 'sunflower':3, 'tulips':4}\n",
    "flower_list = train_dataset.class_to_idx\n",
    "# print(flower_list)\n",
    "\n",
    "# 创建一个字典，存储index和类别的对应关系，在模型推理阶段会用到。\n",
    "cla_dict = dict((val, key) for key, val in flower_list.items())\n",
    "# print(cla_dict)\n",
    "\n",
    "# 将字典写成一个json文件\n",
    "json_str = json.dumps(cla_dict, indent=4)\n",
    "with open( os.path.join(data_path, 'class_indices.json') , 'w') as json_file:\n",
    "    json_file.write(json_str)\n",
    "print(len(flower_list), json_str)\n"
   ]
  },
  {
   "cell_type": "markdown",
   "id": "e318ed5c-6abe-46bf-9e87-aa722804eba1",
   "metadata": {},
   "source": [
    "# 2. 模型与训练"
   ]
  },
  {
   "cell_type": "code",
   "execution_count": 9,
   "id": "bfcd5205-fb4b-47bb-928e-7952acd90920",
   "metadata": {},
   "outputs": [
    {
     "data": {
      "text/plain": [
       "'\\nmodel_alexnet = alexnet(num_classes=2).to(device)\\nmodel_vgg11 = vgg11(num_classes=2)#.to(device)\\nmodel_vgg13 = vgg13(num_classes=2)#.to(device)\\nmodel_vgg16 = vgg16(num_classes=2)#.to(device)\\nmodel_vgg19 = vgg19(num_classes=2)#.to(device)\\n'"
      ]
     },
     "execution_count": 9,
     "metadata": {},
     "output_type": "execute_result"
    }
   ],
   "source": [
    "'''\n",
    "model_alexnet = alexnet(num_classes=2).to(device)\n",
    "model_vgg11 = vgg11(num_classes=2)#.to(device)\n",
    "model_vgg13 = vgg13(num_classes=2)#.to(device)\n",
    "model_vgg16 = vgg16(num_classes=2)#.to(device)\n",
    "model_vgg19 = vgg19(num_classes=2)#.to(device)\n",
    "'''"
   ]
  },
  {
   "cell_type": "code",
   "execution_count": 28,
   "id": "745b772d-6d90-4afb-9611-5c66548f00c6",
   "metadata": {},
   "outputs": [],
   "source": [
    "def train_model(model):\n",
    "    # model = model_class(num_classes=2).to(device)\n",
    "    model = model.to(device)\n",
    "    # 损失函数与优化器\n",
    "    criterion = nn.CrossEntropyLoss()\n",
    "    optimizer = torch.optim.SGD(model.parameters(), lr=learning_rate, momentum = 0.9, weight_decay = 0.0005)\n",
    "\n",
    "    model.train()\n",
    "    \n",
    "\n",
    "    # 开始迭代\n",
    "    for epoch in range(num_epochs):\n",
    "        # 显示进度条\n",
    "        train_bar = tqdm(train_loader, file = sys.stdout, ncols = 100)\n",
    "\n",
    "        # 批处理\n",
    "        for i, (images, labels) in enumerate(train_bar):\n",
    "\n",
    "            images = images.to(device); labels = labels.to(device)\n",
    "\n",
    "            # 前向传播\n",
    "            outputs = model(images)\n",
    "            loss = criterion(outputs, labels)\n",
    "\n",
    "            # 反向优化\n",
    "            optimizer.zero_grad()\n",
    "            loss.backward()\n",
    "            optimizer.step()\n",
    "\n",
    "            Loss.append(loss.item())\n",
    "\n",
    "            train_bar.desc = \"train epoch[{}/{}] loss:{:.6f}\".format(epoch + 1, num_epochs, loss)\n",
    "    \n",
    "    plt.plot(Loss)\n",
    "    print(model, Loss)\n",
    "    \n",
    "    '''\n",
    "    # 清除模型和缓存，慎用！！！\n",
    "    del model\n",
    "    # torch.cuda.empty_cache()\n",
    "    '''"
   ]
  },
  {
   "cell_type": "code",
   "execution_count": 10,
   "id": "116f24ba-7bfa-420b-9ac4-7b0d6cc902f5",
   "metadata": {},
   "outputs": [
    {
     "data": {
      "text/plain": [
       "<All keys matched successfully>"
      ]
     },
     "execution_count": 10,
     "metadata": {},
     "output_type": "execute_result"
    }
   ],
   "source": [
    "'''\n",
    "model = vgg19(num_classes=1000)\n",
    "model.load_state_dict(torch.load('./results/weights/Chest_X-ray2-2_Enhanced/VggNet19.pth',  map_location=torch.device(\"cpu\")))\n",
    "'''\n",
    "import torchvision.models as models\n",
    "# 加载预训练的 AlexNet 模型\n",
    "# model = models.alexnet(pretrained=True)\n",
    "# model = models.vgg19(pretrained=True)\n",
    "# model = models.resnet18(pretrained=True)\n",
    "# model = models.resnet34(pretrained=True)\n",
    "# model = models.googlenet(pretrained=True)\n",
    "# model = models.densenet121(pretrained=True)\n",
    "model = densenet121(num_classes=1000)\n",
    "model.load_state_dict(torch.load('./results/weights/Chest_X-ray2-2_Enhanced/DenseNet.pth',  map_location=torch.device(\"cpu\")))\n"
   ]
  },
  {
   "cell_type": "code",
   "execution_count": 29,
   "id": "a33c66e1-2560-4d63-8026-fe0584997ebb",
   "metadata": {},
   "outputs": [
    {
     "name": "stdout",
     "output_type": "stream",
     "text": [
      "train epoch[1/20] loss:0.000795:  23%|██████▋                      | 28/122 [00:16<00:56,  1.66it/s]\n"
     ]
    },
    {
     "ename": "KeyboardInterrupt",
     "evalue": "",
     "output_type": "error",
     "traceback": [
      "\u001b[0;31m---------------------------------------------------------------------------\u001b[0m",
      "\u001b[0;31mKeyboardInterrupt\u001b[0m                         Traceback (most recent call last)",
      "\u001b[0;32m/tmp/ipykernel_29736/1049900493.py\u001b[0m in \u001b[0;36m<module>\u001b[0;34m\u001b[0m\n\u001b[1;32m      1\u001b[0m \u001b[0mLoss\u001b[0m \u001b[0;34m=\u001b[0m \u001b[0;34m[\u001b[0m\u001b[0;34m]\u001b[0m\u001b[0;34m\u001b[0m\u001b[0;34m\u001b[0m\u001b[0m\n\u001b[0;32m----> 2\u001b[0;31m \u001b[0mtrain_model\u001b[0m\u001b[0;34m(\u001b[0m\u001b[0mmodel\u001b[0m\u001b[0;34m)\u001b[0m\u001b[0;34m\u001b[0m\u001b[0;34m\u001b[0m\u001b[0m\n\u001b[0m",
      "\u001b[0;32m/tmp/ipykernel_29736/2793470958.py\u001b[0m in \u001b[0;36mtrain_model\u001b[0;34m(model)\u001b[0m\n\u001b[1;32m     25\u001b[0m             \u001b[0;31m# 反向优化\u001b[0m\u001b[0;34m\u001b[0m\u001b[0;34m\u001b[0m\u001b[0m\n\u001b[1;32m     26\u001b[0m             \u001b[0moptimizer\u001b[0m\u001b[0;34m.\u001b[0m\u001b[0mzero_grad\u001b[0m\u001b[0;34m(\u001b[0m\u001b[0;34m)\u001b[0m\u001b[0;34m\u001b[0m\u001b[0;34m\u001b[0m\u001b[0m\n\u001b[0;32m---> 27\u001b[0;31m             \u001b[0mloss\u001b[0m\u001b[0;34m.\u001b[0m\u001b[0mbackward\u001b[0m\u001b[0;34m(\u001b[0m\u001b[0;34m)\u001b[0m\u001b[0;34m\u001b[0m\u001b[0;34m\u001b[0m\u001b[0m\n\u001b[0m\u001b[1;32m     28\u001b[0m             \u001b[0moptimizer\u001b[0m\u001b[0;34m.\u001b[0m\u001b[0mstep\u001b[0m\u001b[0;34m(\u001b[0m\u001b[0;34m)\u001b[0m\u001b[0;34m\u001b[0m\u001b[0;34m\u001b[0m\u001b[0m\n\u001b[1;32m     29\u001b[0m \u001b[0;34m\u001b[0m\u001b[0m\n",
      "\u001b[0;32m~/.local/lib/python3.9/site-packages/torch/tensor.py\u001b[0m in \u001b[0;36mbackward\u001b[0;34m(self, gradient, retain_graph, create_graph, inputs)\u001b[0m\n\u001b[1;32m    243\u001b[0m                 \u001b[0mcreate_graph\u001b[0m\u001b[0;34m=\u001b[0m\u001b[0mcreate_graph\u001b[0m\u001b[0;34m,\u001b[0m\u001b[0;34m\u001b[0m\u001b[0;34m\u001b[0m\u001b[0m\n\u001b[1;32m    244\u001b[0m                 inputs=inputs)\n\u001b[0;32m--> 245\u001b[0;31m         \u001b[0mtorch\u001b[0m\u001b[0;34m.\u001b[0m\u001b[0mautograd\u001b[0m\u001b[0;34m.\u001b[0m\u001b[0mbackward\u001b[0m\u001b[0;34m(\u001b[0m\u001b[0mself\u001b[0m\u001b[0;34m,\u001b[0m \u001b[0mgradient\u001b[0m\u001b[0;34m,\u001b[0m \u001b[0mretain_graph\u001b[0m\u001b[0;34m,\u001b[0m \u001b[0mcreate_graph\u001b[0m\u001b[0;34m,\u001b[0m \u001b[0minputs\u001b[0m\u001b[0;34m=\u001b[0m\u001b[0minputs\u001b[0m\u001b[0;34m)\u001b[0m\u001b[0;34m\u001b[0m\u001b[0;34m\u001b[0m\u001b[0m\n\u001b[0m\u001b[1;32m    246\u001b[0m \u001b[0;34m\u001b[0m\u001b[0m\n\u001b[1;32m    247\u001b[0m     \u001b[0;32mdef\u001b[0m \u001b[0mregister_hook\u001b[0m\u001b[0;34m(\u001b[0m\u001b[0mself\u001b[0m\u001b[0;34m,\u001b[0m \u001b[0mhook\u001b[0m\u001b[0;34m)\u001b[0m\u001b[0;34m:\u001b[0m\u001b[0;34m\u001b[0m\u001b[0;34m\u001b[0m\u001b[0m\n",
      "\u001b[0;32m~/.local/lib/python3.9/site-packages/torch/autograd/__init__.py\u001b[0m in \u001b[0;36mbackward\u001b[0;34m(tensors, grad_tensors, retain_graph, create_graph, grad_variables, inputs)\u001b[0m\n\u001b[1;32m    143\u001b[0m         \u001b[0mretain_graph\u001b[0m \u001b[0;34m=\u001b[0m \u001b[0mcreate_graph\u001b[0m\u001b[0;34m\u001b[0m\u001b[0;34m\u001b[0m\u001b[0m\n\u001b[1;32m    144\u001b[0m \u001b[0;34m\u001b[0m\u001b[0m\n\u001b[0;32m--> 145\u001b[0;31m     Variable._execution_engine.run_backward(\n\u001b[0m\u001b[1;32m    146\u001b[0m         \u001b[0mtensors\u001b[0m\u001b[0;34m,\u001b[0m \u001b[0mgrad_tensors_\u001b[0m\u001b[0;34m,\u001b[0m \u001b[0mretain_graph\u001b[0m\u001b[0;34m,\u001b[0m \u001b[0mcreate_graph\u001b[0m\u001b[0;34m,\u001b[0m \u001b[0minputs\u001b[0m\u001b[0;34m,\u001b[0m\u001b[0;34m\u001b[0m\u001b[0;34m\u001b[0m\u001b[0m\n\u001b[1;32m    147\u001b[0m         allow_unreachable=True, accumulate_grad=True)  # allow_unreachable flag\n",
      "\u001b[0;31mKeyboardInterrupt\u001b[0m: "
     ]
    }
   ],
   "source": [
    "Loss = []\n",
    "train_model(model)"
   ]
  },
  {
   "cell_type": "code",
   "execution_count": 30,
   "id": "bf957528-ab18-4a0f-94fe-0899db3c1323",
   "metadata": {},
   "outputs": [
    {
     "name": "stdout",
     "output_type": "stream",
     "text": [
      "finished\n"
     ]
    }
   ],
   "source": [
    "print('finished')"
   ]
  },
  {
   "cell_type": "code",
   "execution_count": 31,
   "id": "d0722285-26af-4cee-868f-be8adcf0bb38",
   "metadata": {},
   "outputs": [
    {
     "data": {
      "text/plain": [
       "[<matplotlib.lines.Line2D at 0x7fe516a0b1c0>]"
      ]
     },
     "execution_count": 31,
     "metadata": {},
     "output_type": "execute_result"
    },
    {
     "data": {
      "image/png": "[encoded data removed]",
      "text/plain": [
       "<Figure size 432x288 with 1 Axes>"
      ]
     },
     "metadata": {
      "needs_background": "light"
     },
     "output_type": "display_data"
    }
   ],
   "source": [
    "plt.plot(Loss)"
   ]
  },
  {
   "cell_type": "code",
   "execution_count": 32,
   "id": "316d6cdf-4497-498c-88bb-e3350a10eed0",
   "metadata": {},
   "outputs": [
    {
     "data": {
      "text/plain": [
       "0.0"
      ]
     },
     "execution_count": 32,
     "metadata": {},
     "output_type": "execute_result"
    }
   ],
   "source": [
    "sum(Loss[2000:2300])/300"
   ]
  },
  {
   "cell_type": "markdown",
   "id": "92a855cb-b149-45f8-9898-c7162a1cb310",
   "metadata": {},
   "source": [
    "# 3. 模型评估"
   ]
  },
  {
   "cell_type": "code",
   "execution_count": 33,
   "id": "761c2818-625e-4659-830c-d7bee012d206",
   "metadata": {},
   "outputs": [],
   "source": [
    "save_path = os.path.abspath(os.path.join(os.getcwd(), './results/weights/Chest_X-ray2-2_Enhanced/'))   #os.getcwd()返回当前目录\n",
    "if not os.path.exists(save_path):    \n",
    "    os.mkdir(save_path)         #与Linux下相同语法"
   ]
  },
  {
   "cell_type": "code",
   "execution_count": 34,
   "id": "f37a4bb5-4ef7-47dc-b4b3-267da5b2006c",
   "metadata": {},
   "outputs": [],
   "source": [
    "val_accurate = 0.0\n",
    "def val_model(model, name):\n",
    "    model.eval()\n",
    "    best_acc = 0.0\n",
    "\n",
    "    with torch.no_grad():\n",
    "        correct = 0; total = 0\n",
    "        val_bar = tqdm(train_loader, file=sys.stdout, ncols=100) \n",
    "        for i, (images, labels) in enumerate(val_bar):\n",
    "            images = images.to(device); labels = labels.to(device)\n",
    "            outputs = model(images)\n",
    "\n",
    "            _, predicted = torch.max(outputs.data, 1)\n",
    "\n",
    "            total += labels.size(0)\n",
    "            correct += (predicted == labels).sum().item()\n",
    "\n",
    "            val_accurate = correct / total\n",
    "\n",
    "            # 判断当前验证集的准确率是否是最大的，如果是，则更新之前保存的权重\n",
    "            if val_accurate > best_acc:\n",
    "                best_acc = val_accurate\n",
    "                torch.save(model.state_dict(), os.path.join(save_path, name+'.pth') )\n",
    "            if (i + 1) % 10 == 0:\n",
    "                print('\\n[epoch %d] val_accuracy: %.3f' %  (i + 1, val_accurate))\n",
    "   "
   ]
  },
  {
   "cell_type": "code",
   "execution_count": 35,
   "id": "15594227-b676-4a13-8667-916ee84fc2ec",
   "metadata": {},
   "outputs": [
    {
     "name": "stdout",
     "output_type": "stream",
     "text": [
      "  7%|████▏                                                          | 8/122 [00:11<01:14,  1.53it/s]\n",
      "[epoch 10] val_accuracy: 1.000\n",
      " 16%|█████████▋                                                    | 19/122 [00:12<00:11,  9.15it/s]\n",
      "[epoch 20] val_accuracy: 1.000\n",
      " 23%|██████████████▏                                               | 28/122 [00:13<00:06, 15.48it/s]\n",
      "[epoch 30] val_accuracy: 1.000\n",
      " 31%|███████████████████▎                                          | 38/122 [00:16<00:14,  5.79it/s]\n",
      "[epoch 40] val_accuracy: 1.000\n",
      " 40%|████████████████████████▉                                     | 49/122 [00:17<00:11,  6.56it/s]\n",
      "[epoch 50] val_accuracy: 1.000\n",
      " 48%|█████████████████████████████▍                                | 58/122 [00:18<00:04, 14.72it/s]\n",
      "[epoch 60] val_accuracy: 1.000\n",
      " 56%|██████████████████████████████████▌                           | 68/122 [00:21<00:08,  6.52it/s]\n",
      "[epoch 70] val_accuracy: 1.000\n",
      " 64%|███████████████████████████████████████▋                      | 78/122 [00:22<00:04,  9.14it/s]\n",
      "[epoch 80] val_accuracy: 1.000\n",
      " 73%|█████████████████████████████████████████████▏                | 89/122 [00:24<00:03,  8.91it/s]\n",
      "[epoch 90] val_accuracy: 1.000\n",
      " 80%|█████████████████████████████████████████████████▊            | 98/122 [00:25<00:02, 11.63it/s]\n",
      "[epoch 100] val_accuracy: 1.000\n",
      " 88%|█████████████████████████████████████████████████████▌       | 107/122 [00:26<00:01,  8.16it/s]\n",
      "[epoch 110] val_accuracy: 1.000\n",
      " 97%|███████████████████████████████████████████████████████████  | 118/122 [00:27<00:00, 11.42it/s]\n",
      "[epoch 120] val_accuracy: 1.000\n",
      "100%|█████████████████████████████████████████████████████████████| 122/122 [00:28<00:00,  4.34it/s]\n"
     ]
    }
   ],
   "source": [
    "val_model(model, 'DenseNet121')"
   ]
  },
  {
   "cell_type": "code",
   "execution_count": 36,
   "id": "60548f3c-bd5b-4be0-a07e-2862966777ea",
   "metadata": {},
   "outputs": [
    {
     "data": {
      "text/plain": [
       "0.0"
      ]
     },
     "execution_count": 36,
     "metadata": {},
     "output_type": "execute_result"
    }
   ],
   "source": [
    "val_accurate"
   ]
  },
  {
   "cell_type": "code",
   "execution_count": null,
   "id": "89e2a0d7-eb52-4fbd-849e-1213c46bd0fa",
   "metadata": {},
   "outputs": [],
   "source": []
  }
 ],
 "metadata": {
  "kernelspec": {
   "display_name": "PyTorch 1.8",
   "language": "python",
   "name": "torch1.8"
  },
  "language_info": {
   "codemirror_mode": {
    "name": "ipython",
    "version": 3
   },
   "file_extension": ".py",
   "mimetype": "text/x-python",
   "name": "python",
   "nbconvert_exporter": "python",
   "pygments_lexer": "ipython3",
   "version": "3.9.7"
  }
 },
 "nbformat": 4,
 "nbformat_minor": 5
}
