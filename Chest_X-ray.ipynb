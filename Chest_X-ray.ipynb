{
 "cells": [
  {
   "cell_type": "markdown",
   "id": "dc2325c1-c79a-4210-b3e6-376853e2f843",
   "metadata": {},
   "source": [
    "> @ChatGPT\n",
    "> \n",
    "> 在使用深度学习进行图像分类时，将图像按大类分类再按小类分类可能会比直接按所有小类分类更容易达到更高的分类精度。\n",
    "> \n",
    "> 这是因为，将图像按大类分类后，模型可以先在较大的类别范围内进行分类，然后再缩小范围，进行更精细的分类。这可以帮助模型在较小的类别范围内更好地学习特征，从而提高分类精度。\n",
    "> \n",
    "> 例如，如果要对动物图像进行分类，可以先将图像分为“哺乳动物”、“鸟类”、“爬行动物”等大类，然后再将每个大类的图像分为更小的类别（例如“狗”、“猫”、“老鹰”等）。这可能会比直接将所有图像分为“狗”、“猫”、“老鹰”等类别更容易达到更高的分类精度。\n",
    "> \n",
    "> 但是，这也可能会增加训练时间和模型的复杂度。因此，在实际应用中，应根据需要选择适当的方法。"
   ]
  },
  {
   "cell_type": "markdown",
   "id": "24284d74-a15c-4f58-af98-f73e7513c1eb",
   "metadata": {},
   "source": [
    "# 1. 数据与预处理"
   ]
  },
  {
   "cell_type": "code",
   "execution_count": 1,
   "id": "8afc2357-a9e2-4f0c-85eb-43193c30e357",
   "metadata": {},
   "outputs": [
    {
     "name": "stderr",
     "output_type": "stream",
     "text": [
      "/root/.local/lib/python3.9/site-packages/tqdm/auto.py:22: TqdmWarning: IProgress not found. Please update jupyter and ipywidgets. See https://ipywidgets.readthedocs.io/en/stable/user_install.html\n",
      "  from .autonotebook import tqdm as notebook_tqdm\n"
     ]
    }
   ],
   "source": [
    "from models.AlexNet import AlexNet\n",
    "import json\n",
    "import os\n",
    "import sys\n",
    "import torch\n",
    "import torch.nn as nn\n",
    "from tqdm import tqdm\n",
    "import torchvision\n",
    "import torchvision.transforms as transforms"
   ]
  },
  {
   "cell_type": "code",
   "execution_count": 2,
   "id": "3e70b07c-71be-431d-bfde-e7092aa22951",
   "metadata": {},
   "outputs": [],
   "source": [
    "data_path = '/root/data/Chest_X-ray2-2/'\n",
    "assert os.path.exists(data_path), \"{} path does not exist.\".format(data_path)"
   ]
  },
  {
   "cell_type": "code",
   "execution_count": 3,
   "id": "7c6c5a3f-641e-4c88-a38b-fd766c5efbfa",
   "metadata": {},
   "outputs": [],
   "source": [
    "# 设置超参数\n",
    "num_epochs = 5\n",
    "batch_size = 64\n",
    "learning_rate = 0.001"
   ]
  },
  {
   "cell_type": "code",
   "execution_count": 4,
   "id": "c6ad94c7-6f42-43ca-aa6e-09a860ae47c9",
   "metadata": {},
   "outputs": [
    {
     "name": "stdout",
     "output_type": "stream",
     "text": [
      "cuda\n",
      "Using 8 dataloader workers every process\n"
     ]
    }
   ],
   "source": [
    "device = torch.device('cuda' if torch.cuda.is_available() else 'cpu')\n",
    "print(device)\n",
    "num_workers = min([os.cpu_count(), batch_size if batch_size > 1 else 0, 8])  # 用于加载数据集的进程数量\n",
    "print('Using {} dataloader workers every process'.format(num_workers))"
   ]
  },
  {
   "cell_type": "code",
   "execution_count": 5,
   "id": "34296efc-d04c-4648-8550-de83150da6a1",
   "metadata": {},
   "outputs": [],
   "source": [
    "data_transform = {\n",
    "    'train': transforms.Compose([transforms.Resize(224),\n",
    "                                transforms.CenterCrop(224),\n",
    "                                transforms.ToTensor(),\n",
    "                                transforms.Normalize((0.5, 0.5, 0.5), (0.5, 0.5, 0.5))]),\n",
    "    'val': transforms.Compose([transforms.Resize(224),\n",
    "                                transforms.ToTensor(),\n",
    "                                transforms.Normalize((0.5, 0.5, 0.5), (0.5, 0.5, 0.5))]),\n",
    "    }"
   ]
  },
  {
   "cell_type": "code",
   "execution_count": 6,
   "id": "9c8985b2-8a8c-405e-a9c6-23bfa7993dd3",
   "metadata": {},
   "outputs": [],
   "source": [
    "# 加载训练集\n",
    "train_dataset = torchvision.datasets.ImageFolder(root = os.path.join(data_path, 'train'), transform=data_transform['train'])\n",
    "# 加载验证集\n",
    "val_dataset = torchvision.datasets.ImageFolder(root = os.path.join(data_path, 'val'), transform=data_transform['val'])\n",
    "\n",
    "train_num = len(train_dataset)\n",
    "val_num = len(val_dataset)"
   ]
  },
  {
   "cell_type": "code",
   "execution_count": 7,
   "id": "3f3e1e71-7a18-4aa4-8a94-167749aeb7a9",
   "metadata": {},
   "outputs": [
    {
     "name": "stdout",
     "output_type": "stream",
     "text": [
      "using 3875 images for training, 8 images for validation.\n"
     ]
    }
   ],
   "source": [
    "# 配置Data loader，一次训练载入一个batch_size的数据\n",
    "train_loader = torch.utils.data.DataLoader(\n",
    "    dataset = train_dataset, batch_size=batch_size, shuffle=True, num_workers=num_workers)\n",
    "val_loader = torch.utils.data.DataLoader(\n",
    "    dataset = val_dataset, batch_size=batch_size, shuffle=False, num_workers=num_workers)\n",
    "print(\"using {} images for training, {} images for validation.\".format(train_num, val_num))"
   ]
  },
  {
   "cell_type": "code",
   "execution_count": 8,
   "id": "7587291f-afcd-4388-a690-0f3f64e7a9cb",
   "metadata": {},
   "outputs": [
    {
     "name": "stdout",
     "output_type": "stream",
     "text": [
      "{\n",
      "    \"0\": \"bacteria\",\n",
      "    \"1\": \"virus\"\n",
      "}\n"
     ]
    }
   ],
   "source": [
    "# 使用class_to_idx给类别一个index，作为训练时的标签： {'daisy':0, 'dandelion':1, 'roses':2, 'sunflower':3, 'tulips':4}\n",
    "flower_list = train_dataset.class_to_idx\n",
    "# print(flower_list)\n",
    "\n",
    "# 创建一个字典，存储index和类别的对应关系，在模型推理阶段会用到。\n",
    "cla_dict = dict((val, key) for key, val in flower_list.items())\n",
    "# print(cla_dict)\n",
    "\n",
    "# 将字典写成一个json文件\n",
    "json_str = json.dumps(cla_dict, indent=4)\n",
    "with open( os.path.join(data_path, 'class_indices.json') , 'w') as json_file:\n",
    "    json_file.write(json_str)\n",
    "print(json_str)"
   ]
  },
  {
   "cell_type": "markdown",
   "id": "e318ed5c-6abe-46bf-9e87-aa722804eba1",
   "metadata": {},
   "source": [
    "# 2. 模型与训练"
   ]
  },
  {
   "cell_type": "code",
   "execution_count": 9,
   "id": "bfcd5205-fb4b-47bb-928e-7952acd90920",
   "metadata": {},
   "outputs": [],
   "source": [
    "model_alexnet = AlexNet(num_classes=1000, init_weights=True).to(device)"
   ]
  },
  {
   "cell_type": "code",
   "execution_count": 10,
   "id": "b6339ea3-aaff-42e1-9631-5089e3fc3173",
   "metadata": {},
   "outputs": [],
   "source": [
    "# 损失函数与优化器\n",
    "criterion = nn.CrossEntropyLoss()\n",
    "optimizer = torch.optim.SGD(model_alexnet.parameters(), lr=learning_rate, momentum = 0.9, weight_decay = 0.0005)"
   ]
  },
  {
   "cell_type": "code",
   "execution_count": 11,
   "id": "b588dba8-9e57-4479-b88a-ed341d141dff",
   "metadata": {},
   "outputs": [
    {
     "name": "stdout",
     "output_type": "stream",
     "text": [
      "train epoch[1/5] loss:0.727: 100%|██████████████████████████████████| 61/61 [01:15<00:00,  1.24s/it]\n",
      "train epoch[2/5] loss:0.586: 100%|██████████████████████████████████| 61/61 [01:15<00:00,  1.23s/it]\n",
      "train epoch[3/5] loss:0.674: 100%|██████████████████████████████████| 61/61 [01:15<00:00,  1.23s/it]\n",
      "train epoch[4/5] loss:0.575: 100%|██████████████████████████████████| 61/61 [01:15<00:00,  1.24s/it]\n",
      "train epoch[5/5] loss:0.564: 100%|██████████████████████████████████| 61/61 [01:13<00:00,  1.21s/it]\n"
     ]
    }
   ],
   "source": [
    "model_alexnet.train()\n",
    "Loss = []\n",
    "\n",
    "# 开始迭代\n",
    "for epoch in range(num_epochs):\n",
    "    # 显示进度条\n",
    "    train_bar = tqdm(train_loader, file = sys.stdout, ncols = 100)\n",
    "    \n",
    "    # 批处理\n",
    "    for i, (images, labels) in enumerate(train_bar):\n",
    "        \n",
    "        images = images.to(device); labels = labels.to(device)\n",
    "        \n",
    "        # 前向传播\n",
    "        outputs = model_alexnet(images)\n",
    "        loss = criterion(outputs, labels)\n",
    "        \n",
    "        # 反向优化\n",
    "        optimizer.zero_grad()\n",
    "        loss.backward()\n",
    "        optimizer.step()\n",
    "        \n",
    "        Loss.append(loss.item())\n",
    "        \n",
    "        train_bar.desc = \"train epoch[{}/{}] loss:{:.3f}\".format(epoch + 1, num_epochs, loss)"
   ]
  },
  {
   "cell_type": "code",
   "execution_count": 12,
   "id": "a7db09a5-7efe-499b-b872-9e994a29ebd9",
   "metadata": {},
   "outputs": [
    {
     "data": {
      "text/plain": [
       "[<matplotlib.lines.Line2D at 0x7ff98aba69d0>]"
      ]
     },
     "execution_count": 12,
     "metadata": {},
     "output_type": "execute_result"
    },
    {
     "data": {
      "image/png": "[encoded data removed]",
      "text/plain": [
       "<Figure size 432x288 with 1 Axes>"
      ]
     },
     "metadata": {
      "needs_background": "light"
     },
     "output_type": "display_data"
    }
   ],
   "source": [
    "import matplotlib.pyplot as plt\n",
    "plt.plot(Loss)"
   ]
  },
  {
   "cell_type": "markdown",
   "id": "92a855cb-b149-45f8-9898-c7162a1cb310",
   "metadata": {},
   "source": [
    "# 3. 模型评估"
   ]
  },
  {
   "cell_type": "code",
   "execution_count": 13,
   "id": "761c2818-625e-4659-830c-d7bee012d206",
   "metadata": {},
   "outputs": [],
   "source": [
    "save_path = os.path.abspath(os.path.join(os.getcwd(), './results/weights/Chest_X-ray2-2/'))   #os.getcwd()返回当前目录\n",
    "if not os.path.exists(save_path):    \n",
    "    os.mkdir(save_path)         #与Linux下相同语法"
   ]
  },
  {
   "cell_type": "code",
   "execution_count": null,
   "id": "15594227-b676-4a13-8667-916ee84fc2ec",
   "metadata": {},
   "outputs": [
    {
     "name": "stdout",
     "output_type": "stream",
     "text": [
      " 15%|█████████▍                                                      | 9/61 [00:26<00:51,  1.01it/s]\n",
      "[epoch 10] val_accuracy: 0.642\n",
      " 31%|███████████████████▌                                           | 19/61 [00:37<00:59,  1.41s/it]\n",
      "[epoch 20] val_accuracy: 0.641\n",
      " 48%|█████████████████████████████▉                                 | 29/61 [00:48<00:32,  1.02s/it]\n",
      "[epoch 30] val_accuracy: 0.655\n",
      " 64%|████████████████████████████████████████▎                      | 39/61 [00:58<00:13,  1.69it/s]\n",
      "[epoch 40] val_accuracy: 0.650\n",
      " 80%|██████████████████████████████████████████████████▌            | 49/61 [01:09<00:10,  1.13it/s]\n",
      "[epoch 50] val_accuracy: 0.651\n",
      " 95%|███████████████████████████████████████████████████████████▉   | 58/61 [01:15<00:01,  2.20it/s]\n",
      "[epoch 60] val_accuracy: 0.657\n",
      "100%|███████████████████████████████████████████████████████████████| 61/61 [01:15<00:00,  1.24s/it]\n"
     ]
    }
   ],
   "source": [
    "model_alexnet.eval()\n",
    "best_acc = 0.0\n",
    "\n",
    "with torch.no_grad():\n",
    "    correct = 0; total = 0\n",
    "    val_bar = tqdm(train_loader, file=sys.stdout, ncols=100) \n",
    "    for i, (images, labels) in enumerate(val_bar):\n",
    "        images = images.to(device); labels = labels.to(device)\n",
    "        outputs = model_alexnet(images)\n",
    "        \n",
    "        _, predicted = torch.max(outputs.data, 1)\n",
    "        \n",
    "        total += labels.size(0)\n",
    "        correct += (predicted == labels).sum().item()\n",
    "\n",
    "        val_accurate = correct / total\n",
    "        \n",
    "        # 判断当前验证集的准确率是否是最大的，如果是，则更新之前保存的权重\n",
    "        if val_accurate > best_acc:\n",
    "            best_acc = val_accurate\n",
    "            torch.save(model_alexnet.state_dict(), os.path.join(save_path, \"AlexNet.pth\") )\n",
    "        if (i + 1) % 10 == 0:\n",
    "            print('\\n[epoch %d] val_accuracy: %.3f' %  (i + 1, val_accurate))\n"
   ]
  },
  {
   "cell_type": "code",
   "execution_count": 16,
   "id": "60548f3c-bd5b-4be0-a07e-2862966777ea",
   "metadata": {},
   "outputs": [
    {
     "data": {
      "text/plain": [
       "0.6575483870967742"
      ]
     },
     "execution_count": 16,
     "metadata": {},
     "output_type": "execute_result"
    }
   ],
   "source": [
    "val_accurate"
   ]
  },
  {
   "cell_type": "code",
   "execution_count": null,
   "id": "89e2a0d7-eb52-4fbd-849e-1213c46bd0fa",
   "metadata": {},
   "outputs": [],
   "source": []
  }
 ],
 "metadata": {
  "kernelspec": {
   "display_name": "PyTorch 1.8",
   "language": "python",
   "name": "torch1.8"
  },
  "language_info": {
   "codemirror_mode": {
    "name": "ipython",
    "version": 3
   },
   "file_extension": ".py",
   "mimetype": "text/x-python",
   "name": "python",
   "nbconvert_exporter": "python",
   "pygments_lexer": "ipython3",
   "version": "3.9.7"
  }
 },
 "nbformat": 4,
 "nbformat_minor": 5
}
