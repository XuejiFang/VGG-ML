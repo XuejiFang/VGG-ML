{
 "cells": [
  {
   "cell_type": "code",
   "execution_count": 3,
   "id": "5bd056ae-5330-447e-af38-416e57685af9",
   "metadata": {},
   "outputs": [],
   "source": [
    "import cv2\n",
    "import matplotlib.pyplot as plt\n",
    "import os\n",
    "from skimage.exposure import histogram, equalize_adapthist\n",
    "from skimage.transform import resize"
   ]
  },
  {
   "cell_type": "code",
   "execution_count": 4,
   "id": "0e181752-2223-4522-a0ce-506028bd33e7",
   "metadata": {},
   "outputs": [],
   "source": [
    "# 禁用plt的交互\n",
    "plt.ioff()"
   ]
  },
  {
   "cell_type": "code",
   "execution_count": 26,
   "id": "eb195b36-97db-4f0d-835a-9daa79e15a8c",
   "metadata": {},
   "outputs": [],
   "source": [
    "path = './data/Chest_X-ray2-2/test/'"
   ]
  },
  {
   "cell_type": "code",
   "execution_count": 27,
   "id": "7dc3ad1f-1690-40b0-af7e-1c96b78d7dd5",
   "metadata": {},
   "outputs": [],
   "source": [
    "save_path = './data/Chest_X-ray2-2_Hist/test/'\n",
    "if not os.path.exists(save_path):\n",
    "    os.mkdir(save_path)"
   ]
  },
  {
   "cell_type": "code",
   "execution_count": 28,
   "id": "60e424f6-0976-4a84-ab2b-571dbc6f384c",
   "metadata": {},
   "outputs": [
    {
     "name": "stdout",
     "output_type": "stream",
     "text": [
      "./data/Chest_X-ray2-2_Hist/test/virus\n",
      "./data/Chest_X-ray2-2_Hist/test/bacteria\n",
      "finished\n"
     ]
    }
   ],
   "source": [
    "for i, name in enumerate(os.listdir(path)):\n",
    "    save_path0 = save_path+name\n",
    "    print(save_path0)\n",
    "    if not os.path.exists(save_path0):\n",
    "        os.mkdir(save_path0)\n",
    "    \n",
    "    for j, img_name in enumerate(os.listdir(path+name)):\n",
    "        if not os.path.exists(save_path0+'/'+img_name): \n",
    "        \n",
    "            img = cv2.imread(path+name+'/'+img_name)\n",
    "\n",
    "            hist, bins = histogram(img)\n",
    "            plt.figure(figsize=(28/9, 28/9))\n",
    "            plt.bar(bins, hist)\n",
    "            # 去掉坐标轴标签\n",
    "            plt.xticks([])\n",
    "            plt.yticks([])\n",
    "\n",
    "            plt.savefig(save_path0+'/'+img_name)\n",
    "        \n",
    "            if j+1 % 10 ==0:\n",
    "                print('Epoch[{}/{}], index[{}/{}]'.format(i+1, len(os.listdir(path)), j+1, len(os.listdir(path+name))))\n",
    "        \n",
    "print('finished')   "
   ]
  },
  {
   "cell_type": "code",
   "execution_count": 33,
   "id": "dc3f867b-aac4-45e3-a809-f95e951d1b66",
   "metadata": {},
   "outputs": [
    {
     "data": {
      "text/plain": [
       "390"
      ]
     },
     "execution_count": 33,
     "metadata": {},
     "output_type": "execute_result"
    }
   ],
   "source": [
    "save_path = './data/Chest_X-ray2-2_Hist/test/'\n",
    "len(os.listdir(save_path+'bacteria')) + len(os.listdir(save_path+'virus'))"
   ]
  },
  {
   "cell_type": "code",
   "execution_count": 34,
   "id": "0b99025d-2f0a-42e2-86ac-11f6f4b5944a",
   "metadata": {},
   "outputs": [
    {
     "data": {
      "text/plain": [
       "390"
      ]
     },
     "execution_count": 34,
     "metadata": {},
     "output_type": "execute_result"
    }
   ],
   "source": [
    "path = './data/Chest_X-ray2-2/test/'\n",
    "len(os.listdir(path+'bacteria')) + len(os.listdir(path+'virus'))"
   ]
  },
  {
   "cell_type": "code",
   "execution_count": null,
   "id": "eccd85b6-1996-430f-96b1-2f0cd32779e5",
   "metadata": {},
   "outputs": [],
   "source": []
  }
 ],
 "metadata": {
  "kernelspec": {
   "display_name": "Python 3",
   "language": "python",
   "name": "python3"
  },
  "language_info": {
   "codemirror_mode": {
    "name": "ipython",
    "version": 3
   },
   "file_extension": ".py",
   "mimetype": "text/x-python",
   "name": "python",
   "nbconvert_exporter": "python",
   "pygments_lexer": "ipython3",
   "version": "3.7.6"
  }
 },
 "nbformat": 4,
 "nbformat_minor": 5
}
